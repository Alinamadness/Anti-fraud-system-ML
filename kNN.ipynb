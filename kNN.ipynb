{
 "cells": [
  {
   "cell_type": "code",
   "execution_count": 53,
   "id": "cdde4331",
   "metadata": {},
   "outputs": [],
   "source": [
    "# Импортируем необходимые библиотеки\n",
    "import pandas as pd\n",
    "import numpy as np\n",
    "\n",
    "import matplotlib.pyplot as plt\n",
    "plt.style.use('seaborn')\n",
    "%matplotlib inline\n",
    "import os\n",
    "import seaborn as sns\n",
    "import statsmodels.api as sm\n",
    "\n",
    "from scipy import stats\n",
    "from sklearn.preprocessing import StandardScaler \n",
    "from sklearn.model_selection import train_test_split\n",
    "from sklearn.neighbors import KNeighborsClassifier\n",
    "\n",
    "from sklearn.metrics import confusion_matrix,  ConfusionMatrixDisplay\n",
    "from sklearn.metrics import accuracy_score, precision_score, recall_score, f1_score\n",
    "from sklearn.metrics import classification_report\n",
    "\n",
    "from sklearn.model_selection import GridSearchCV\n",
    "from sklearn.model_selection import StratifiedKFold, KFold"
   ]
  },
  {
   "cell_type": "code",
   "execution_count": 2,
   "id": "84c0c615",
   "metadata": {},
   "outputs": [],
   "source": [
    "df = pd.read_csv('rbess_features_val.csv', index_col = 'accounts addresses')"
   ]
  },
  {
   "cell_type": "code",
   "execution_count": 3,
   "id": "401b1c6a",
   "metadata": {},
   "outputs": [
    {
     "data": {
      "text/html": [
       "<div>\n",
       "<style scoped>\n",
       "    .dataframe tbody tr th:only-of-type {\n",
       "        vertical-align: middle;\n",
       "    }\n",
       "\n",
       "    .dataframe tbody tr th {\n",
       "        vertical-align: top;\n",
       "    }\n",
       "\n",
       "    .dataframe thead th {\n",
       "        text-align: right;\n",
       "    }\n",
       "</style>\n",
       "<table border=\"1\" class=\"dataframe\">\n",
       "  <thead>\n",
       "    <tr style=\"text-align: right;\">\n",
       "      <th></th>\n",
       "      <th>feature_0</th>\n",
       "      <th>feature_1</th>\n",
       "      <th>feature_2</th>\n",
       "      <th>feature_3</th>\n",
       "      <th>feature_4</th>\n",
       "      <th>feature_5</th>\n",
       "      <th>feature_6</th>\n",
       "      <th>feature_7</th>\n",
       "      <th>feature_8</th>\n",
       "      <th>feature_9</th>\n",
       "      <th>feature_10</th>\n",
       "      <th>feature_11</th>\n",
       "      <th>feature_12</th>\n",
       "      <th>feature_13</th>\n",
       "      <th>feature_14</th>\n",
       "      <th>predictor</th>\n",
       "    </tr>\n",
       "    <tr>\n",
       "      <th>accounts addresses</th>\n",
       "      <th></th>\n",
       "      <th></th>\n",
       "      <th></th>\n",
       "      <th></th>\n",
       "      <th></th>\n",
       "      <th></th>\n",
       "      <th></th>\n",
       "      <th></th>\n",
       "      <th></th>\n",
       "      <th></th>\n",
       "      <th></th>\n",
       "      <th></th>\n",
       "      <th></th>\n",
       "      <th></th>\n",
       "      <th></th>\n",
       "      <th></th>\n",
       "    </tr>\n",
       "  </thead>\n",
       "  <tbody>\n",
       "    <tr>\n",
       "      <th>103</th>\n",
       "      <td>257.60</td>\n",
       "      <td>252.63</td>\n",
       "      <td>277.98</td>\n",
       "      <td>276.22</td>\n",
       "      <td>281.88</td>\n",
       "      <td>280.55</td>\n",
       "      <td>34</td>\n",
       "      <td>32541</td>\n",
       "      <td>176525</td>\n",
       "      <td>526.11</td>\n",
       "      <td>532.89</td>\n",
       "      <td>476.92</td>\n",
       "      <td>490.43</td>\n",
       "      <td>451.38</td>\n",
       "      <td>471.29</td>\n",
       "      <td>1</td>\n",
       "    </tr>\n",
       "    <tr>\n",
       "      <th>616</th>\n",
       "      <td>126.85</td>\n",
       "      <td>111.16</td>\n",
       "      <td>265.39</td>\n",
       "      <td>267.40</td>\n",
       "      <td>280.57</td>\n",
       "      <td>279.35</td>\n",
       "      <td>3</td>\n",
       "      <td>1897</td>\n",
       "      <td>92166</td>\n",
       "      <td>331.61</td>\n",
       "      <td>328.51</td>\n",
       "      <td>471.94</td>\n",
       "      <td>489.86</td>\n",
       "      <td>456.02</td>\n",
       "      <td>474.70</td>\n",
       "      <td>1</td>\n",
       "    </tr>\n",
       "    <tr>\n",
       "      <th>9</th>\n",
       "      <td>267.50</td>\n",
       "      <td>268.45</td>\n",
       "      <td>280.59</td>\n",
       "      <td>278.13</td>\n",
       "      <td>281.85</td>\n",
       "      <td>280.47</td>\n",
       "      <td>94</td>\n",
       "      <td>69558</td>\n",
       "      <td>210184</td>\n",
       "      <td>469.86</td>\n",
       "      <td>491.67</td>\n",
       "      <td>457.03</td>\n",
       "      <td>474.64</td>\n",
       "      <td>452.14</td>\n",
       "      <td>471.63</td>\n",
       "      <td>1</td>\n",
       "    </tr>\n",
       "    <tr>\n",
       "      <th>424</th>\n",
       "      <td>50.32</td>\n",
       "      <td>458.47</td>\n",
       "      <td>273.52</td>\n",
       "      <td>271.78</td>\n",
       "      <td>279.91</td>\n",
       "      <td>278.93</td>\n",
       "      <td>1</td>\n",
       "      <td>1454</td>\n",
       "      <td>78784</td>\n",
       "      <td>150.50</td>\n",
       "      <td>414.39</td>\n",
       "      <td>499.87</td>\n",
       "      <td>520.01</td>\n",
       "      <td>455.46</td>\n",
       "      <td>473.62</td>\n",
       "      <td>1</td>\n",
       "    </tr>\n",
       "    <tr>\n",
       "      <th>38</th>\n",
       "      <td>272.70</td>\n",
       "      <td>270.47</td>\n",
       "      <td>279.91</td>\n",
       "      <td>278.93</td>\n",
       "      <td>281.93</td>\n",
       "      <td>280.74</td>\n",
       "      <td>111</td>\n",
       "      <td>77330</td>\n",
       "      <td>214882</td>\n",
       "      <td>503.03</td>\n",
       "      <td>520.97</td>\n",
       "      <td>455.46</td>\n",
       "      <td>473.62</td>\n",
       "      <td>451.73</td>\n",
       "      <td>471.88</td>\n",
       "      <td>1</td>\n",
       "    </tr>\n",
       "  </tbody>\n",
       "</table>\n",
       "</div>"
      ],
      "text/plain": [
       "                    feature_0  feature_1  feature_2  feature_3  feature_4  \\\n",
       "accounts addresses                                                          \n",
       "103                    257.60     252.63     277.98     276.22     281.88   \n",
       "616                    126.85     111.16     265.39     267.40     280.57   \n",
       "9                      267.50     268.45     280.59     278.13     281.85   \n",
       "424                     50.32     458.47     273.52     271.78     279.91   \n",
       "38                     272.70     270.47     279.91     278.93     281.93   \n",
       "\n",
       "                    feature_5  feature_6  feature_7  feature_8  feature_9  \\\n",
       "accounts addresses                                                          \n",
       "103                    280.55         34      32541     176525     526.11   \n",
       "616                    279.35          3       1897      92166     331.61   \n",
       "9                      280.47         94      69558     210184     469.86   \n",
       "424                    278.93          1       1454      78784     150.50   \n",
       "38                     280.74        111      77330     214882     503.03   \n",
       "\n",
       "                    feature_10  feature_11  feature_12  feature_13  \\\n",
       "accounts addresses                                                   \n",
       "103                     532.89      476.92      490.43      451.38   \n",
       "616                     328.51      471.94      489.86      456.02   \n",
       "9                       491.67      457.03      474.64      452.14   \n",
       "424                     414.39      499.87      520.01      455.46   \n",
       "38                      520.97      455.46      473.62      451.73   \n",
       "\n",
       "                    feature_14  predictor  \n",
       "accounts addresses                         \n",
       "103                     471.29          1  \n",
       "616                     474.70          1  \n",
       "9                       471.63          1  \n",
       "424                     473.62          1  \n",
       "38                      471.88          1  "
      ]
     },
     "execution_count": 3,
     "metadata": {},
     "output_type": "execute_result"
    }
   ],
   "source": [
    "df.head()"
   ]
  },
  {
   "cell_type": "code",
   "execution_count": 4,
   "id": "8c4cc94a",
   "metadata": {},
   "outputs": [],
   "source": [
    "X = df.iloc[:, :-1]\n",
    "y = df['predictor']"
   ]
  },
  {
   "cell_type": "code",
   "execution_count": 5,
   "id": "c42fef59",
   "metadata": {},
   "outputs": [],
   "source": [
    "# Для оценки качества полученной классификации рассмотрим матрицу ошибок.\n",
    "\"\"\"\n",
    "    Функция conf_matrix для расчета TP (true positives), FP (false positives), TN (true negatives), FN (false negatives)  \n",
    "    y_true: массив array, истинные отклики\n",
    "    y_true: массив array, предсказанные классификатором отклики\n",
    "\"\"\"\n",
    "\n",
    "def conf_matrix(y_true, y_pred):\n",
    "    cm = confusion_matrix(y_true, y_pred)\n",
    "    disp = ConfusionMatrixDisplay(cm, display_labels = ['Не мошенник', 'Мошенник'])\n",
    "    disp.plot(cmap='Greens')\n",
    "    plt.rcParams[\"axes.grid\"] = False\n",
    "    font = {'size' : 12}\n",
    "    plt.rc('font', **font)\n",
    "    plt.show()"
   ]
  },
  {
   "cell_type": "code",
   "execution_count": 6,
   "id": "f1a63f06",
   "metadata": {},
   "outputs": [],
   "source": [
    "# Разделяем на обучающую и тестовую выборки\n",
    "X_train, X_test, y_train, y_test = train_test_split(X, y, test_size = 0.33, random_state = 21)"
   ]
  },
  {
   "cell_type": "code",
   "execution_count": 7,
   "id": "79d2c325",
   "metadata": {},
   "outputs": [],
   "source": [
    "#  Стандартизация предикторов\n",
    "scaler = StandardScaler()   #   среднее 0, ст.отклонение 1\n",
    "\n",
    "scaler.fit(X_train)\n",
    "\n",
    "#  Важно: одинаковые параметры стандартизации у обучающего и тестового множества!\n",
    "X_train = scaler.transform(X_train)  \n",
    "X_test = scaler.transform(X_test)  "
   ]
  },
  {
   "cell_type": "code",
   "execution_count": 42,
   "id": "5674f3f1",
   "metadata": {},
   "outputs": [],
   "source": [
    "\"\"\"\n",
    "    Функция error_rate для расчета точности классификации методом k ближайших соседей\n",
    "    begin: число int, начальное значение числа k\n",
    "    end: число int, конечное значение числа k\n",
    "    step: число int, значение шага при переборе k\n",
    "\"\"\"\n",
    "def error_rate(begin, end, step):\n",
    "    error_rate = []\n",
    "    for i in range(begin, end, step):  \n",
    "        knn_res = KNeighborsClassifier(n_neighbors=i, p = 1, weights = 'distance' )\n",
    "        knn_res.fit(X_train, y_train)\n",
    "        pred_i = knn_res.predict(X_test)\n",
    "        error_rate.append(np.mean(pred_i != y_test))\n",
    "    return error_rate"
   ]
  },
  {
   "cell_type": "code",
   "execution_count": 43,
   "id": "724daa09",
   "metadata": {},
   "outputs": [],
   "source": [
    "begin, end, step = 1, 50, 2\n",
    "err_rate = error_rate(begin, end, step)"
   ]
  },
  {
   "cell_type": "code",
   "execution_count": 44,
   "id": "fe94de82",
   "metadata": {},
   "outputs": [
    {
     "data": {
      "image/png": "[encoded data removed]",
      "text/plain": [
       "<Figure size 864x432 with 1 Axes>"
      ]
     },
     "metadata": {
      "needs_background": "light"
     },
     "output_type": "display_data"
    }
   ],
   "source": [
    "# Построим график\n",
    "plt.figure(figsize=(12, 6))  \n",
    "plt.plot(range(begin, end, step), err_rate, color='blue', linestyle='dashed', marker='o',  \n",
    "         markerfacecolor='red', markersize=7) \n",
    "\n",
    "plt.title(u'Доля ошибок для разных k', fontsize = 15)  \n",
    "plt.xlabel('Значение k', fontsize = 15)  \n",
    "plt.ylabel('Доля ошибок', fontsize = 15)  \n",
    "plt.grid()"
   ]
  },
  {
   "cell_type": "code",
   "execution_count": 45,
   "id": "90abbad8",
   "metadata": {},
   "outputs": [],
   "source": [
    "\"\"\"\n",
    "    Функция recall_rate для расчета метрики recall классификации методом k ближайших соседей\n",
    "    begin: число int, начальное значение числа k\n",
    "    end: число int, конечное значение числа k\n",
    "    step: число int, значение шага при переборе k\n",
    "\"\"\"\n",
    "def recall_rate(begin, end, step):\n",
    "    recall_rate = []\n",
    "    for i in range(begin, end, step):  \n",
    "        knn_res = KNeighborsClassifier(n_neighbors=i, p = 1, weights = 'distance' )\n",
    "        knn_res.fit(X_train, y_train)\n",
    "        pred_i = knn_res.predict(X_test)\n",
    "        recall_rate.append(recall_score(y_test, pred_i, average='macro'))\n",
    "    return recall_rate"
   ]
  },
  {
   "cell_type": "code",
   "execution_count": 46,
   "id": "cd5f6e9f",
   "metadata": {},
   "outputs": [],
   "source": [
    "begin, end, step = 1, 50, 2\n",
    "rec_rate = recall_rate(begin, end, step)"
   ]
  },
  {
   "cell_type": "code",
   "execution_count": 47,
   "id": "9f4de9c3",
   "metadata": {},
   "outputs": [
    {
     "data": {
      "image/png": "[encoded data removed]",
      "text/plain": [
       "<Figure size 864x432 with 1 Axes>"
      ]
     },
     "metadata": {
      "needs_background": "light"
     },
     "output_type": "display_data"
    }
   ],
   "source": [
    "plt.figure(figsize=(12, 6))  \n",
    "plt.plot(range(begin, end, step), rec_rate, color='blue', linestyle='dashed', marker='o',  \n",
    "         markerfacecolor='red', markersize=7) \n",
    "\n",
    "plt.title('Значение метрики recall для разных k', fontsize = 15)  \n",
    "plt.xlabel('Значение k', fontsize = 15)  \n",
    "plt.ylabel('Recall', fontsize = 15)  \n",
    "plt.grid()"
   ]
  },
  {
   "cell_type": "code",
   "execution_count": 48,
   "id": "e548a6a9",
   "metadata": {},
   "outputs": [],
   "source": [
    "n_neigh = 10\n",
    "clf = KNeighborsClassifier(n_neighbors = 1, \n",
    "        algorithm = 'auto',   #  как искать ближайших соседей?\n",
    "        leaf_size = 30,       #  параметр  BallTree или KDTree\n",
    "        metric = 'minkowski', #  расстояние между объектами\n",
    "        p = 1,                #  так расст. Минковского  превращается в евклидово\n",
    "        metric_params = None, #  используем для самодельных расстояний\n",
    "        n_jobs = 1,           #  число процессов\n",
    "        weights = 'distance')  # одинаковые веса классов\n",
    "\n",
    "clf.fit(X_train, y_train)\n",
    "y_pred_train = clf.predict(X_train)\n",
    "y_pred_test = clf.predict(X_test)"
   ]
  },
  {
   "cell_type": "code",
   "execution_count": 49,
   "id": "0b5c92bf",
   "metadata": {},
   "outputs": [
    {
     "name": "stdout",
     "output_type": "stream",
     "text": [
      "На тестовой выборке:\n",
      "              precision    recall  f1-score   support\n",
      "\n",
      "           0       0.97      0.95      0.96       433\n",
      "           1       0.08      0.14      0.10        14\n",
      "\n",
      "    accuracy                           0.92       447\n",
      "   macro avg       0.53      0.54      0.53       447\n",
      "weighted avg       0.94      0.92      0.93       447\n",
      "\n"
     ]
    },
    {
     "data": {
      "image/png": "[encoded data removed]",
      "text/plain": [
       "<Figure size 432x288 with 2 Axes>"
      ]
     },
     "metadata": {
      "needs_background": "light"
     },
     "output_type": "display_data"
    }
   ],
   "source": [
    "print('На тестовой выборке:')\n",
    "print(classification_report(y_pred_test, y_test))\n",
    "conf_matrix(y_test, y_pred_test)"
   ]
  },
  {
   "cell_type": "code",
   "execution_count": 67,
   "id": "6e5f83eb",
   "metadata": {},
   "outputs": [],
   "source": [
    "estimator_KNN = KNeighborsClassifier(algorithm='auto')\n",
    "parameters_KNN = {\n",
    "    'n_neighbors': (1,2, 10 ),\n",
    "    'leaf_size': (20,40,1, 30,10),\n",
    "    'p': (1,2),\n",
    "    'weights': ('uniform', 'distance'),\n",
    "    'metric': ('minkowski', 'chebyshev')}"
   ]
  },
  {
   "cell_type": "code",
   "execution_count": 68,
   "id": "a56d57d7",
   "metadata": {},
   "outputs": [
    {
     "data": {
      "text/plain": [
       "GridSearchCV(cv=StratifiedKFold(n_splits=5, random_state=None, shuffle=False),\n",
       "             estimator=KNeighborsClassifier(),\n",
       "             param_grid={'leaf_size': (20, 40, 1, 30, 10),\n",
       "                         'metric': ('minkowski', 'chebyshev'),\n",
       "                         'n_neighbors': (1, 2, 10), 'p': (1, 2),\n",
       "                         'weights': ('uniform', 'distance')},\n",
       "             scoring='recall')"
      ]
     },
     "execution_count": 68,
     "metadata": {},
     "output_type": "execute_result"
    }
   ],
   "source": [
    "grid_CV = GridSearchCV(\n",
    "    estimator=estimator_KNN,\n",
    "    param_grid=parameters_KNN,\n",
    "    scoring = 'recall',\n",
    "    cv = StratifiedKFold(n_splits=5)\n",
    ")\n",
    "grid_CV.fit(X_train, y_train)"
   ]
  },
  {
   "cell_type": "code",
   "execution_count": 69,
   "id": "9ba269c1",
   "metadata": {},
   "outputs": [
    {
     "name": "stdout",
     "output_type": "stream",
     "text": [
      "Лучшие значения гиперпараметров:\n",
      " {'leaf_size': 20, 'metric': 'minkowski', 'n_neighbors': 1, 'p': 1, 'weights': 'uniform'}\n"
     ]
    }
   ],
   "source": [
    "#   Лучший набор значений гиперпараметров\n",
    "best_hyperparams = grid_CV.best_params_\n",
    "print('Лучшие значения гиперпараметров:\\n', best_hyperparams)"
   ]
  },
  {
   "cell_type": "code",
   "execution_count": 70,
   "id": "6d97ef39",
   "metadata": {},
   "outputs": [],
   "source": [
    "best_model = grid_CV.best_estimator_\n",
    "\n",
    "y_pred_train = best_model.predict(X_train)\n",
    "y_pred_test = best_model.predict(X_test)"
   ]
  },
  {
   "cell_type": "code",
   "execution_count": 71,
   "id": "8205bd87",
   "metadata": {},
   "outputs": [
    {
     "name": "stdout",
     "output_type": "stream",
     "text": [
      "На тестовой выборке:\n",
      "              precision    recall  f1-score   support\n",
      "\n",
      "           0       0.97      0.95      0.96       433\n",
      "           1       0.08      0.14      0.10        14\n",
      "\n",
      "    accuracy                           0.92       447\n",
      "   macro avg       0.53      0.54      0.53       447\n",
      "weighted avg       0.94      0.92      0.93       447\n",
      "\n"
     ]
    },
    {
     "data": {
      "image/png": "[encoded data removed]",
      "text/plain": [
       "<Figure size 432x288 with 2 Axes>"
      ]
     },
     "metadata": {
      "needs_background": "light"
     },
     "output_type": "display_data"
    }
   ],
   "source": [
    "print('На тестовой выборке:')\n",
    "print(classification_report(y_pred_test, y_test))\n",
    "conf_matrix(y_test, y_pred_test)"
   ]
  },
  {
   "cell_type": "code",
   "execution_count": null,
   "id": "d365b715",
   "metadata": {},
   "outputs": [],
   "source": []
  }
 ],
 "metadata": {
  "kernelspec": {
   "display_name": "Python 3 (ipykernel)",
   "language": "python",
   "name": "python3"
  },
  "language_info": {
   "codemirror_mode": {
    "name": "ipython",
    "version": 3
   },
   "file_extension": ".py",
   "mimetype": "text/x-python",
   "name": "python",
   "nbconvert_exporter": "python",
   "pygments_lexer": "ipython3",
   "version": "3.9.12"
  }
 },
 "nbformat": 4,
 "nbformat_minor": 5
}
