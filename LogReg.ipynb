{
 "cells": [
  {
   "cell_type": "code",
   "execution_count": 35,
   "id": "265cd282",
   "metadata": {},
   "outputs": [],
   "source": [
    "# Импортируем необходимые библиотеки\n",
    "import pandas as pd\n",
    "import numpy as np\n",
    "\n",
    "import matplotlib.pyplot as plt\n",
    "plt.style.use('seaborn')\n",
    "%matplotlib inline\n",
    "import os\n",
    "import seaborn as sns\n",
    "import statsmodels.api as sm\n",
    "\n",
    "from scipy import stats\n",
    "from sklearn.preprocessing import StandardScaler \n",
    "from sklearn.model_selection import train_test_split\n",
    "from sklearn.neighbors import KNeighborsClassifier\n",
    "\n",
    "from sklearn.metrics import confusion_matrix,  ConfusionMatrixDisplay\n",
    "from sklearn.metrics import accuracy_score, precision_score, recall_score, f1_score\n",
    "from sklearn.metrics import classification_report\n",
    "\n",
    "from sklearn.model_selection import GridSearchCV\n",
    "from sklearn.model_selection import StratifiedKFold, KFold\n",
    "\n",
    "from sklearn.linear_model import LogisticRegression\n",
    "from sklearn.pipeline import make_pipeline, Pipeline\n",
    "from sklearn import preprocessing\n"
   ]
  },
  {
   "cell_type": "code",
   "execution_count": 2,
   "id": "74935ce1",
   "metadata": {},
   "outputs": [],
   "source": [
    "df = pd.read_csv('rbess_features_val.csv', index_col = 'accounts addresses')"
   ]
  },
  {
   "cell_type": "code",
   "execution_count": 3,
   "id": "e4960253",
   "metadata": {},
   "outputs": [
    {
     "data": {
      "text/html": [
       "<div>\n",
       "<style scoped>\n",
       "    .dataframe tbody tr th:only-of-type {\n",
       "        vertical-align: middle;\n",
       "    }\n",
       "\n",
       "    .dataframe tbody tr th {\n",
       "        vertical-align: top;\n",
       "    }\n",
       "\n",
       "    .dataframe thead th {\n",
       "        text-align: right;\n",
       "    }\n",
       "</style>\n",
       "<table border=\"1\" class=\"dataframe\">\n",
       "  <thead>\n",
       "    <tr style=\"text-align: right;\">\n",
       "      <th></th>\n",
       "      <th>feature_0</th>\n",
       "      <th>feature_1</th>\n",
       "      <th>feature_2</th>\n",
       "      <th>feature_3</th>\n",
       "      <th>feature_4</th>\n",
       "      <th>feature_5</th>\n",
       "      <th>feature_6</th>\n",
       "      <th>feature_7</th>\n",
       "      <th>feature_8</th>\n",
       "      <th>feature_9</th>\n",
       "      <th>feature_10</th>\n",
       "      <th>feature_11</th>\n",
       "      <th>feature_12</th>\n",
       "      <th>feature_13</th>\n",
       "      <th>feature_14</th>\n",
       "      <th>predictor</th>\n",
       "    </tr>\n",
       "    <tr>\n",
       "      <th>accounts addresses</th>\n",
       "      <th></th>\n",
       "      <th></th>\n",
       "      <th></th>\n",
       "      <th></th>\n",
       "      <th></th>\n",
       "      <th></th>\n",
       "      <th></th>\n",
       "      <th></th>\n",
       "      <th></th>\n",
       "      <th></th>\n",
       "      <th></th>\n",
       "      <th></th>\n",
       "      <th></th>\n",
       "      <th></th>\n",
       "      <th></th>\n",
       "      <th></th>\n",
       "    </tr>\n",
       "  </thead>\n",
       "  <tbody>\n",
       "    <tr>\n",
       "      <th>103</th>\n",
       "      <td>257.60</td>\n",
       "      <td>252.63</td>\n",
       "      <td>277.98</td>\n",
       "      <td>276.22</td>\n",
       "      <td>281.88</td>\n",
       "      <td>280.55</td>\n",
       "      <td>34</td>\n",
       "      <td>32541</td>\n",
       "      <td>176525</td>\n",
       "      <td>526.11</td>\n",
       "      <td>532.89</td>\n",
       "      <td>476.92</td>\n",
       "      <td>490.43</td>\n",
       "      <td>451.38</td>\n",
       "      <td>471.29</td>\n",
       "      <td>1</td>\n",
       "    </tr>\n",
       "    <tr>\n",
       "      <th>616</th>\n",
       "      <td>126.85</td>\n",
       "      <td>111.16</td>\n",
       "      <td>265.39</td>\n",
       "      <td>267.40</td>\n",
       "      <td>280.57</td>\n",
       "      <td>279.35</td>\n",
       "      <td>3</td>\n",
       "      <td>1897</td>\n",
       "      <td>92166</td>\n",
       "      <td>331.61</td>\n",
       "      <td>328.51</td>\n",
       "      <td>471.94</td>\n",
       "      <td>489.86</td>\n",
       "      <td>456.02</td>\n",
       "      <td>474.70</td>\n",
       "      <td>1</td>\n",
       "    </tr>\n",
       "    <tr>\n",
       "      <th>9</th>\n",
       "      <td>267.50</td>\n",
       "      <td>268.45</td>\n",
       "      <td>280.59</td>\n",
       "      <td>278.13</td>\n",
       "      <td>281.85</td>\n",
       "      <td>280.47</td>\n",
       "      <td>94</td>\n",
       "      <td>69558</td>\n",
       "      <td>210184</td>\n",
       "      <td>469.86</td>\n",
       "      <td>491.67</td>\n",
       "      <td>457.03</td>\n",
       "      <td>474.64</td>\n",
       "      <td>452.14</td>\n",
       "      <td>471.63</td>\n",
       "      <td>1</td>\n",
       "    </tr>\n",
       "    <tr>\n",
       "      <th>424</th>\n",
       "      <td>50.32</td>\n",
       "      <td>458.47</td>\n",
       "      <td>273.52</td>\n",
       "      <td>271.78</td>\n",
       "      <td>279.91</td>\n",
       "      <td>278.93</td>\n",
       "      <td>1</td>\n",
       "      <td>1454</td>\n",
       "      <td>78784</td>\n",
       "      <td>150.50</td>\n",
       "      <td>414.39</td>\n",
       "      <td>499.87</td>\n",
       "      <td>520.01</td>\n",
       "      <td>455.46</td>\n",
       "      <td>473.62</td>\n",
       "      <td>1</td>\n",
       "    </tr>\n",
       "    <tr>\n",
       "      <th>38</th>\n",
       "      <td>272.70</td>\n",
       "      <td>270.47</td>\n",
       "      <td>279.91</td>\n",
       "      <td>278.93</td>\n",
       "      <td>281.93</td>\n",
       "      <td>280.74</td>\n",
       "      <td>111</td>\n",
       "      <td>77330</td>\n",
       "      <td>214882</td>\n",
       "      <td>503.03</td>\n",
       "      <td>520.97</td>\n",
       "      <td>455.46</td>\n",
       "      <td>473.62</td>\n",
       "      <td>451.73</td>\n",
       "      <td>471.88</td>\n",
       "      <td>1</td>\n",
       "    </tr>\n",
       "  </tbody>\n",
       "</table>\n",
       "</div>"
      ],
      "text/plain": [
       "                    feature_0  feature_1  feature_2  feature_3  feature_4  \\\n",
       "accounts addresses                                                          \n",
       "103                    257.60     252.63     277.98     276.22     281.88   \n",
       "616                    126.85     111.16     265.39     267.40     280.57   \n",
       "9                      267.50     268.45     280.59     278.13     281.85   \n",
       "424                     50.32     458.47     273.52     271.78     279.91   \n",
       "38                     272.70     270.47     279.91     278.93     281.93   \n",
       "\n",
       "                    feature_5  feature_6  feature_7  feature_8  feature_9  \\\n",
       "accounts addresses                                                          \n",
       "103                    280.55         34      32541     176525     526.11   \n",
       "616                    279.35          3       1897      92166     331.61   \n",
       "9                      280.47         94      69558     210184     469.86   \n",
       "424                    278.93          1       1454      78784     150.50   \n",
       "38                     280.74        111      77330     214882     503.03   \n",
       "\n",
       "                    feature_10  feature_11  feature_12  feature_13  \\\n",
       "accounts addresses                                                   \n",
       "103                     532.89      476.92      490.43      451.38   \n",
       "616                     328.51      471.94      489.86      456.02   \n",
       "9                       491.67      457.03      474.64      452.14   \n",
       "424                     414.39      499.87      520.01      455.46   \n",
       "38                      520.97      455.46      473.62      451.73   \n",
       "\n",
       "                    feature_14  predictor  \n",
       "accounts addresses                         \n",
       "103                     471.29          1  \n",
       "616                     474.70          1  \n",
       "9                       471.63          1  \n",
       "424                     473.62          1  \n",
       "38                      471.88          1  "
      ]
     },
     "execution_count": 3,
     "metadata": {},
     "output_type": "execute_result"
    }
   ],
   "source": [
    "df.head()"
   ]
  },
  {
   "cell_type": "code",
   "execution_count": 4,
   "id": "ce6e0f44",
   "metadata": {},
   "outputs": [],
   "source": [
    "X = df.iloc[:, :-1]\n",
    "y = df['predictor']"
   ]
  },
  {
   "cell_type": "code",
   "execution_count": 5,
   "id": "4e59698d",
   "metadata": {},
   "outputs": [],
   "source": [
    "# Для оценки качества полученной классификации рассмотрим матрицу ошибок.\n",
    "\"\"\"\n",
    "    Функция conf_matrix для расчета TP (true positives), FP (false positives), TN (true negatives), FN (false negatives)  \n",
    "    y_true: массив array, истинные отклики\n",
    "    y_true: массив array, предсказанные классификатором отклики\n",
    "\"\"\"\n",
    "\n",
    "def conf_matrix(y_true, y_pred):\n",
    "    cm = confusion_matrix(y_true, y_pred)\n",
    "    disp = ConfusionMatrixDisplay(cm, display_labels = ['Не мошенник', 'Мошенник'])\n",
    "    disp.plot(cmap='Greens')\n",
    "    plt.rcParams[\"axes.grid\"] = False\n",
    "    font = {'size' : 12}\n",
    "    plt.rc('font', **font)\n",
    "    plt.show()"
   ]
  },
  {
   "cell_type": "code",
   "execution_count": 22,
   "id": "7ff5df22",
   "metadata": {},
   "outputs": [],
   "source": [
    "# Разделяем на обучающую и тестовую выборки\n",
    "X_train, X_test, y_train, y_test = train_test_split(X, y, test_size = 0.33, random_state = 21, stratify = y)"
   ]
  },
  {
   "cell_type": "code",
   "execution_count": 7,
   "id": "c83aeb5e",
   "metadata": {},
   "outputs": [],
   "source": [
    "# #  Стандартизация предикторов\n",
    "# scaler = StandardScaler()   #   среднее 0, ст.отклонение 1\n",
    "\n",
    "# scaler.fit(X_train)\n",
    "\n",
    "# #  Важно: одинаковые параметры стандартизации у обучающего и тестового множества!\n",
    "# X_train = scaler.transform(X_train)  \n",
    "# X_test = scaler.transform(X_test)  "
   ]
  },
  {
   "cell_type": "code",
   "execution_count": 23,
   "id": "98b68d7b",
   "metadata": {},
   "outputs": [],
   "source": [
    "clf = LogisticRegression(penalty='l2',\n",
    "                   dual=False,\n",
    "                   tol=0.001,\n",
    "                   C=1.0,\n",
    "                   fit_intercept=True,\n",
    "                   intercept_scaling=1,\n",
    "                   class_weight=None,\n",
    "                   random_state=None,\n",
    "                   solver='lbfgs',\n",
    "                   max_iter=1000,\n",
    "                   multi_class='auto',\n",
    "                   verbose=0,\n",
    "                   warm_start=False,\n",
    "                   n_jobs=None,\n",
    "                   l1_ratio=None)\n",
    "\n",
    "clf.fit(X_train, y_train)\n",
    "y_pred_train = clf.predict(X_train)\n",
    "y_pred_test = clf.predict(X_test)"
   ]
  },
  {
   "cell_type": "code",
   "execution_count": 24,
   "id": "6eec1e43",
   "metadata": {},
   "outputs": [
    {
     "name": "stdout",
     "output_type": "stream",
     "text": [
      "На тестовой выборке:\n",
      "              precision    recall  f1-score   support\n",
      "\n",
      "           0       1.00      0.95      0.97       447\n",
      "           1       0.00      0.00      0.00         0\n",
      "\n",
      "    accuracy                           0.95       447\n",
      "   macro avg       0.50      0.47      0.49       447\n",
      "weighted avg       1.00      0.95      0.97       447\n",
      "\n"
     ]
    },
    {
     "name": "stderr",
     "output_type": "stream",
     "text": [
      "C:\\Users\\qwerty\\anaconda3\\lib\\site-packages\\sklearn\\metrics\\_classification.py:1318: UndefinedMetricWarning: Recall and F-score are ill-defined and being set to 0.0 in labels with no true samples. Use `zero_division` parameter to control this behavior.\n",
      "  _warn_prf(average, modifier, msg_start, len(result))\n",
      "C:\\Users\\qwerty\\anaconda3\\lib\\site-packages\\sklearn\\metrics\\_classification.py:1318: UndefinedMetricWarning: Recall and F-score are ill-defined and being set to 0.0 in labels with no true samples. Use `zero_division` parameter to control this behavior.\n",
      "  _warn_prf(average, modifier, msg_start, len(result))\n",
      "C:\\Users\\qwerty\\anaconda3\\lib\\site-packages\\sklearn\\metrics\\_classification.py:1318: UndefinedMetricWarning: Recall and F-score are ill-defined and being set to 0.0 in labels with no true samples. Use `zero_division` parameter to control this behavior.\n",
      "  _warn_prf(average, modifier, msg_start, len(result))\n"
     ]
    },
    {
     "data": {
      "image/png": "[encoded data removed]",
      "text/plain": [
       "<Figure size 432x288 with 2 Axes>"
      ]
     },
     "metadata": {
      "needs_background": "light"
     },
     "output_type": "display_data"
    }
   ],
   "source": [
    "print('На тестовой выборке:')\n",
    "print(classification_report(y_pred_test, y_test))\n",
    "conf_matrix(y_test, y_pred_test)"
   ]
  },
  {
   "cell_type": "code",
   "execution_count": 32,
   "id": "f1e7c58b",
   "metadata": {},
   "outputs": [
    {
     "name": "stdout",
     "output_type": "stream",
     "text": [
      "На тестовой выборке:\n",
      "              precision    recall  f1-score   support\n",
      "\n",
      "           0       0.89      0.96      0.92       391\n",
      "           1       0.33      0.14      0.20        56\n",
      "\n",
      "    accuracy                           0.86       447\n",
      "   macro avg       0.61      0.55      0.56       447\n",
      "weighted avg       0.82      0.86      0.83       447\n",
      "\n"
     ]
    },
    {
     "data": {
      "image/png": "[encoded data removed]",
      "text/plain": [
       "<Figure size 432x288 with 2 Axes>"
      ]
     },
     "metadata": {
      "needs_background": "light"
     },
     "output_type": "display_data"
    }
   ],
   "source": [
    "clf = LogisticRegression(penalty='l2',\n",
    "                   dual=False,\n",
    "                   tol=0.01,\n",
    "                   C=1.0,\n",
    "                   fit_intercept=True,\n",
    "                   intercept_scaling=1,\n",
    "                   class_weight={0:1, 1:10},\n",
    "                   random_state=None,\n",
    "                   solver='liblinear',\n",
    "                   max_iter=1000,\n",
    "                   verbose=0,\n",
    "                   warm_start=False,\n",
    "                   n_jobs=None,\n",
    "                   l1_ratio=None)\n",
    "\n",
    "clf.fit(X_train, y_train)\n",
    "y_pred_train = clf.predict(X_train)\n",
    "y_pred_test = clf.predict(X_test)\n",
    "\n",
    "print('На тестовой выборке:')\n",
    "print(classification_report(y_pred_test, y_test))\n",
    "conf_matrix(y_test, y_pred_test)"
   ]
  },
  {
   "cell_type": "code",
   "execution_count": 43,
   "id": "f5c72fef",
   "metadata": {},
   "outputs": [
    {
     "name": "stderr",
     "output_type": "stream",
     "text": [
      "C:\\Users\\qwerty\\anaconda3\\lib\\site-packages\\sklearn\\model_selection\\_validation.py:372: FitFailedWarning: \n",
      "80 fits failed out of a total of 240.\n",
      "The score on these train-test partitions for these parameters will be set to nan.\n",
      "If these failures are not expected, you can try to debug them by setting error_score='raise'.\n",
      "\n",
      "Below are more details about the failures:\n",
      "--------------------------------------------------------------------------------\n",
      "80 fits failed with the following error:\n",
      "Traceback (most recent call last):\n",
      "  File \"C:\\Users\\qwerty\\anaconda3\\lib\\site-packages\\sklearn\\model_selection\\_validation.py\", line 680, in _fit_and_score\n",
      "    estimator.fit(X_train, y_train, **fit_params)\n",
      "  File \"C:\\Users\\qwerty\\anaconda3\\lib\\site-packages\\sklearn\\pipeline.py\", line 394, in fit\n",
      "    self._final_estimator.fit(Xt, y, **fit_params_last_step)\n",
      "  File \"C:\\Users\\qwerty\\anaconda3\\lib\\site-packages\\sklearn\\linear_model\\_logistic.py\", line 1461, in fit\n",
      "    solver = _check_solver(self.solver, self.penalty, self.dual)\n",
      "  File \"C:\\Users\\qwerty\\anaconda3\\lib\\site-packages\\sklearn\\linear_model\\_logistic.py\", line 441, in _check_solver\n",
      "    raise ValueError(\n",
      "ValueError: Logistic Regression supports only penalties in ['l1', 'l2', 'elasticnet', 'none'], got None.\n",
      "\n",
      "  warnings.warn(some_fits_failed_message, FitFailedWarning)\n",
      "C:\\Users\\qwerty\\anaconda3\\lib\\site-packages\\sklearn\\model_selection\\_search.py:969: UserWarning: One or more of the test scores are non-finite: [0.         0.         0.         0.                nan        nan\n",
      " 0.10666667 0.10666667 0.10666667 0.10666667        nan        nan\n",
      " 0.37777778 0.37777778 0.4        0.4               nan        nan\n",
      " 0.68666667 0.68666667 0.62888889 0.62888889        nan        nan\n",
      " 0.02       0.02       0.02       0.02              nan        nan\n",
      " 0.12666667 0.12666667 0.12666667 0.12666667        nan        nan\n",
      " 0.42222222 0.42222222 0.37777778 0.37777778        nan        nan\n",
      " 0.64888889 0.64888889 0.58888889 0.58888889        nan        nan]\n",
      "  warnings.warn(\n"
     ]
    },
    {
     "data": {
      "text/plain": [
       "GridSearchCV(cv=StratifiedKFold(n_splits=5, random_state=None, shuffle=False),\n",
       "             estimator=Pipeline(steps=[('scaler', StandardScaler()),\n",
       "                                       ('logReg',\n",
       "                                        LogisticRegression(max_iter=1000,\n",
       "                                                           solver='liblinear'))]),\n",
       "             param_grid={'logReg__C': (0.5, 1.0),\n",
       "                         'logReg__class_weight': ({0: 1, 1: 5}, {0: 1, 1: 10},\n",
       "                                                  {0: 1, 1: 15},\n",
       "                                                  {0: 1, 1: 20}),\n",
       "                         'logReg__penalty': ('l2', 'l1', None),\n",
       "                         'logReg__tol': (0.01, 0.001)},\n",
       "             scoring='recall')"
      ]
     },
     "execution_count": 43,
     "metadata": {},
     "output_type": "execute_result"
    }
   ],
   "source": [
    "estimator_logreg = Pipeline([('scaler', preprocessing.StandardScaler()),\n",
    "                               ('logReg', LogisticRegression(max_iter = 1000, solver='liblinear')) ])\n",
    "\n",
    "parameters_logreg = {\n",
    "    'logReg__penalty': ('l2','l1', None),\n",
    "    'logReg__tol': (0.01, 0.001),\n",
    "    'logReg__class_weight': ({0:1, 1:5}, {0:1, 1:10}, {0:1, 1:15}, {0:1, 1:20}),\n",
    "    'logReg__C': (0.5, 1.0)}\n",
    "\n",
    "\n",
    "grid_CV = GridSearchCV(\n",
    "    estimator=estimator_logreg,\n",
    "    param_grid=parameters_logreg,\n",
    "    scoring = 'recall',\n",
    "    cv = StratifiedKFold(n_splits=5)\n",
    ")\n",
    "grid_CV.fit(X_train, y_train)"
   ]
  },
  {
   "cell_type": "code",
   "execution_count": 44,
   "id": "285fb4be",
   "metadata": {},
   "outputs": [
    {
     "name": "stdout",
     "output_type": "stream",
     "text": [
      "Лучшие значения гиперпараметров:\n",
      " {'logReg__C': 0.5, 'logReg__class_weight': {0: 1, 1: 20}, 'logReg__penalty': 'l2', 'logReg__tol': 0.01}\n",
      "На тестовой выборке:\n",
      "              precision    recall  f1-score   support\n",
      "\n",
      "           0       0.58      0.98      0.73       251\n",
      "           1       0.79      0.10      0.17       196\n",
      "\n",
      "    accuracy                           0.59       447\n",
      "   macro avg       0.69      0.54      0.45       447\n",
      "weighted avg       0.67      0.59      0.49       447\n",
      "\n"
     ]
    },
    {
     "data": {
      "image/png": "[encoded data removed]",
      "text/plain": [
       "<Figure size 432x288 with 2 Axes>"
      ]
     },
     "metadata": {
      "needs_background": "light"
     },
     "output_type": "display_data"
    }
   ],
   "source": [
    "#   Лучший набор значений гиперпараметров\n",
    "best_hyperparams = grid_CV.best_params_\n",
    "print('Лучшие значения гиперпараметров:\\n', best_hyperparams)\n",
    "\n",
    "best_model = grid_CV.best_estimator_\n",
    "\n",
    "y_pred_train = best_model.predict(X_train)\n",
    "y_pred_test = best_model.predict(X_test)\n",
    "\n",
    "\n",
    "print('На тестовой выборке:')\n",
    "print(classification_report(y_pred_test, y_test))\n",
    "conf_matrix(y_test, y_pred_test)"
   ]
  },
  {
   "cell_type": "code",
   "execution_count": null,
   "id": "379c782c",
   "metadata": {},
   "outputs": [],
   "source": []
  }
 ],
 "metadata": {
  "kernelspec": {
   "display_name": "Python 3 (ipykernel)",
   "language": "python",
   "name": "python3"
  },
  "language_info": {
   "codemirror_mode": {
    "name": "ipython",
    "version": 3
   },
   "file_extension": ".py",
   "mimetype": "text/x-python",
   "name": "python",
   "nbconvert_exporter": "python",
   "pygments_lexer": "ipython3",
   "version": "3.9.12"
  }
 },
 "nbformat": 4,
 "nbformat_minor": 5
}
